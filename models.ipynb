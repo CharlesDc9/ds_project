{
 "cells": [
  {
   "cell_type": "code",
   "execution_count": null,
   "metadata": {},
   "outputs": [],
   "source": [
    "from sklearn.linear_model import linearRegression\n",
    "\n",
    "x, y = load()\n",
    "\n",
    "estimator = LinearRegression()\n",
    "estimator  = fit(x,y)"
   ]
  }
 ],
 "metadata": {
  "language_info": {
   "name": "python"
  }
 },
 "nbformat": 4,
 "nbformat_minor": 2
}
